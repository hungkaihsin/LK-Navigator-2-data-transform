{
 "cells": [
  {
   "cell_type": "markdown",
   "metadata": {},
   "source": [
    "# LK-Navigator2 visualisation tool\n",
    "## Introduction\n",
    "- Calculate measure time though measure data number and measure time range. <br>\n",
    "- Easily to make chart by using Origin or excel.\n",
    "## Instructions\n",
    "- Mac\n",
    "   1. Run `/dist/main.app`\n",
    "- Windows\n",
    "   1. Open 'main.py\n",
    "   2. Use pip install all library\n",
    "      'pip install openpyxl'\n",
    "      \n",
    "\n",
    "2. Choose LK Navigator2 measure file(.xlsx).\n",
    "   - **After measuremet, the file type is .csv, You need to transfer it to xlsx first**.\n",
    "3. Type measure data number and measure time.\n",
    "4. Click \"Save location\" to chose file's save route.\n",
    "5. Click \"Output\" to save as Excel file."
   ]
  }
 ],
 "metadata": {
  "language_info": {
   "name": "python"
  }
 },
 "nbformat": 4,
 "nbformat_minor": 2
}
