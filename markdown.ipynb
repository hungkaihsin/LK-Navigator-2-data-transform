{
 "cells": [
  {
   "cell_type": "markdown",
   "metadata": {},
   "source": [
    "# LK-Navigator2 visualisation tool\n",
    "### - Introduction\n",
    "- Calculate the time range of measure data and transfer it to chart\n",
    "### - Instructions\n",
    "#### 1. Installation\n",
    "\n",
    "- Mac\n",
    "   1. Run `/dist/main.app` \n",
    "\n",
    "- Windows\n",
    "\n",
    "\n",
    "   1. Open `main.py`\n",
    "\n",
    "   2. Use pip install all library \n",
    "      > pip install openpyxl<br>\n",
    "      >\n",
    "      > pip install pandas<br>\n",
    "      >\n",
    "      > pip install matplotlib<br>\n",
    "\n",
    "   3. Run \n",
    "\n",
    "### 3. Demonstrate\n",
    "<p align = \"center\">\n",
    "\n",
    "<img src=\"https://imgur.com/z7LD6Ak.png\" alt=\"Demontrate\" width=\"450\"/>\n",
    " </p>   \n",
    "\n",
    "\n",
    "<p align = \"center\">\n",
    "\n",
    "<img src=\"https://imgur.com/G3VX5Rt.png\" alt=\"Demontrate\" width=\"450\"/>\n",
    " </p>   \n",
    "\n",
    "#### Note\n",
    "- This tools can easily tranfer measure date to chart\n",
    "\n",
    "- In the demonstrate pictures, measure data is 100000, and measure time is 500 seconds(by using `test_data2_2.csv`)"
   ]
  }
 ],
 "metadata": {
  "language_info": {
   "name": "python"
  }
 },
 "nbformat": 4,
 "nbformat_minor": 2
}
